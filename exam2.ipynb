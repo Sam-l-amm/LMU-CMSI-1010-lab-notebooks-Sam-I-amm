{
  "cells": [
    {
      "cell_type": "markdown",
      "metadata": {
        "id": "EGywpsUtj5rg"
      },
      "source": [
        "## <a href=\"https://colab.research.google.com/github/LMU-CMSI-1010/exam2/blob/main/exam2.ipynb\" target=\"_parent\"><img src=\"https://colab.research.google.com/assets/colab-badge.svg\" alt=\"Open In Colab\"/></a>"
      ]
    },
    {
      "cell_type": "markdown",
      "metadata": {
        "id": "8uUWyu_Hj8lR"
      },
      "source": [
        "# Exam 2 Coding Questions"
      ]
    },
    {
      "cell_type": "markdown",
      "metadata": {
        "id": "9aXfrLXg9seM"
      },
      "source": [
        "## Question 21 - Tuple Product\n",
        "\n",
        "Write a recursive function tuple_product that, given a tuple of integers, will return the product of that tuple's integers. Extra credit: Have the function support nested tuples.\n",
        "\n",
        "- You can check if a variable is a tuple: `type(v)` is tuple will only be `True` if `v` is a tuple\n",
        "\n",
        "- You can also check if a variable is an integer: `type(v)` is `int` will only be `True` if `v` is an integer\n",
        "\n",
        "For example, `tuple_product((5, 6, 7))` should return `210`, `tuple_product((3, -2, 3))` should return `-18`, etc.\n",
        "\n",
        "For extra credit, `tuple_product(((1), (1, 2), (1, 2, 4), (1, 2, 4, 8)))` would return `1024`, `tuple_product(((-1, -1, -1), (8, 3), (6)))` would return `-144`, etc."
      ]
    },
    {
      "cell_type": "code",
      "execution_count": 69,
      "metadata": {
        "id": "il5_urtt-WvH",
        "outputId": "83846f8c-8858-43ad-b521-3c55b0ece043",
        "colab": {
          "base_uri": "https://localhost:8080/"
        }
      },
      "outputs": [
        {
          "output_type": "execute_result",
          "data": {
            "text/plain": [
              "210"
            ]
          },
          "metadata": {},
          "execution_count": 69
        }
      ],
      "source": [
        "def tuple_product(t):\n",
        "    product = 1\n",
        "    i = 0\n",
        "    while i < len(t):\n",
        "      amount = t[i]\n",
        "      if type(amount) is int:\n",
        "        product *= amount\n",
        "      else:\n",
        "        product *= tuple_product(amount)\n",
        "      i += 1\n",
        "    return(product)\n",
        "\n",
        "    pass\n",
        "tuple_product((5, 6, 7))"
      ]
    },
    {
      "cell_type": "markdown",
      "metadata": {
        "id": "SEwdZQ0Wk2TF"
      },
      "source": [
        "## Question 22 - Chicago Dice Game\n",
        "\n",
        "The Chicago Dice Game uses two (2) dice and can have two to six players. There are 11 rounds in the game. The rounds are numbered 2–12. For each round, each player rolls the dice. If the sum of the dice equals the number of the round (e.g., roll 3 + 4 = 7 during round 7), the player gets a point. Otherwise, the player's score stays the same.\n",
        "\n",
        "Complete the implementation of the `ChicagoDiceGame` class derived from the DiceGame class below. You will need to write the constructor `__init__` and override the method play for the Chicago Dice Game. You can add any methods you need to play the game.\n",
        "\n",
        "If your code updates scores correctly, you do not have to implement winners again and can use the implementation in the DiceGame parent class."
      ]
    },
    {
      "cell_type": "code",
      "execution_count": 50,
      "metadata": {
        "id": "QgpKA81MlCEW",
        "outputId": "9bbca5df-aa6d-41c8-afe2-3c2ec5b6862a",
        "colab": {
          "base_uri": "https://localhost:8080/"
        }
      },
      "outputs": [
        {
          "output_type": "stream",
          "name": "stdout",
          "text": [
            "Playing game\n",
            "['Jack', 'Jill']\n"
          ]
        }
      ],
      "source": [
        "# @title\n",
        "import random\n",
        "\n",
        "\n",
        "class Dice():\n",
        "    def __init__(self):\n",
        "        self.name = 'two'\n",
        "\n",
        "    def roll(self):\n",
        "        die1 = random.randint(1, 6)\n",
        "        die2 = random.randint(1, 6)\n",
        "        return die1, die2\n",
        "\n",
        "\n",
        "class DiceGame():\n",
        "    def __init__(self, players):\n",
        "        self.dice = Dice()\n",
        "        self.players = players\n",
        "        self.scores = {}\n",
        "\n",
        "        # Initialize scores of all players to 0.\n",
        "        for player in self.players:\n",
        "            self.scores[player] = 0\n",
        "\n",
        "    def play(self):\n",
        "        print('Playing game')\n",
        "\n",
        "    def winners(self):\n",
        "        if not self.scores:\n",
        "            return None\n",
        "        scores = list(self.scores.values())\n",
        "        max_score = max(scores)\n",
        "        winners = []\n",
        "        for player in self.scores:\n",
        "            if self.scores[player] == max_score:\n",
        "                winners.append(player)\n",
        "        return winners\n",
        "\n",
        "\n",
        "\n",
        "class ChicagoDiceGame(DiceGame):\n",
        "  def __init__(self, players):\n",
        "    super().__init__(players)\n",
        "    self.scores = {player: 0 for player in players}\n",
        "    if len(players) < 2 or len(players) > 6:\n",
        "      self.valid = False\n",
        "    else:\n",
        "      self.valid = True\n",
        "\n",
        "\n",
        "\n",
        "\n",
        "    def play(self):\n",
        "      if not self.valid:\n",
        "        print('Invalid number of players')\n",
        "        return\n",
        "\n",
        "\n",
        "      for round in range(2, 13):\n",
        "        print(f'Round {round}:')\n",
        "        for player in self.players:\n",
        "          die1, die2 = self.dice.roll()\n",
        "          total = die1 + die2\n",
        "          print(f'{player} rolled {total}')\n",
        "          if total == round:\n",
        "            self.scores[player] += 1\n",
        "            print(f'{player} gets a point!')\n",
        "\n",
        "      print('Game over')\n",
        "      print('Scores:')\n",
        "      for player in self.scores:\n",
        "        print(f'{player}: {self.scores[player]}')\n",
        "\n",
        "\n",
        "# Driver code below will work when your code is complete.\n",
        "new_game = ChicagoDiceGame(['Jack', 'Jill'])\n",
        "new_game.play()\n",
        "print(new_game.winners())"
      ]
    }
  ],
  "metadata": {
    "colab": {
      "provenance": []
    },
    "kernelspec": {
      "display_name": "Python 3",
      "language": "python",
      "name": "python3"
    },
    "language_info": {
      "codemirror_mode": {
        "name": "ipython",
        "version": 3
      },
      "file_extension": ".py",
      "mimetype": "text/x-python",
      "name": "python",
      "nbconvert_exporter": "python",
      "pygments_lexer": "ipython3",
      "version": "3.8.5"
    }
  },
  "nbformat": 4,
  "nbformat_minor": 0
}